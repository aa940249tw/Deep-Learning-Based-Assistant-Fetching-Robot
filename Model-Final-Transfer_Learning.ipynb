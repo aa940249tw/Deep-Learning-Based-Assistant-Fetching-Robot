{
 "cells": [
  {
   "cell_type": "code",
   "execution_count": 1,
   "metadata": {},
   "outputs": [
    {
     "name": "stderr",
     "output_type": "stream",
     "text": [
      "Using TensorFlow backend.\n"
     ]
    }
   ],
   "source": [
    "import tensorflow as tf\n",
    "from tensorflow import keras\n",
    "import numpy as np\n",
    "import cv2\n",
    "import os\n",
    "import glob\n",
    "from PIL import Image\n",
    "import matplotlib.pyplot as plt\n",
    "from keras.preprocessing import image\n",
    "from imageio import imsave\n",
    "import argparse\n",
    "import skimage\n",
    "import skimage.io as io\n",
    "from skimage.color import rgb2hsv\n",
    "from keras.applications.resnet50 import ResNet50\n",
    "from keras.layers import Input, concatenate, Lambda\n",
    "from keras.layers.core import Dense, Dropout\n",
    "from keras.models import Model\n",
    "from keras.callbacks import LambdaCallback\n",
    "from keras.optimizers import SGD, Adam\n",
    "import matplotlib.patches as patches\n",
    "import math\n",
    "from keras.models import load_model\n",
    "\n",
    "%matplotlib inline\n",
    "data_dir = \"D:\\\\yangdata\\\\TrainData\""
   ]
  },
  {
   "cell_type": "markdown",
   "metadata": {},
   "source": [
    "## Read rectangle Files"
   ]
  },
  {
   "cell_type": "code",
   "execution_count": 2,
   "metadata": {},
   "outputs": [],
   "source": [
    "def read_rect_txt(folder):\n",
    "    lines = []\n",
    "    f = glob.glob(os.path.join(folder, '*dd.txt'))\n",
    "    f.sort()\n",
    "    for files in f:\n",
    "        file = open(files, 'rt')\n",
    "        line = file.readlines()\n",
    "        t = []\n",
    "        for l in line:\n",
    "            t.append(list(map(float, l.split())))\n",
    "        lines.append(t)\n",
    "    return lines\n",
    "rect_train = read_rect_txt(data_dir)"
   ]
  },
  {
   "cell_type": "code",
   "execution_count": 3,
   "metadata": {
    "scrolled": true
   },
   "outputs": [
    {
     "data": {
      "text/plain": [
       "24"
      ]
     },
     "execution_count": 3,
     "metadata": {},
     "output_type": "execute_result"
    }
   ],
   "source": [
    "len(rect_train)"
   ]
  },
  {
   "cell_type": "code",
   "execution_count": 4,
   "metadata": {},
   "outputs": [
    {
     "data": {
      "text/plain": [
       "[[91.0, 59.0], [124.0, 40.0], [119.0, 108.0], [152.0, 89.0]]"
      ]
     },
     "execution_count": 4,
     "metadata": {},
     "output_type": "execute_result"
    }
   ],
   "source": [
    "rect_train[0]"
   ]
  },
  {
   "cell_type": "code",
   "execution_count": 5,
   "metadata": {},
   "outputs": [],
   "source": [
    "#change to (x, y, w, h, theta)\n",
    "def change_coord_to_box(ld, lu, rd, ru):\n",
    "    lux, luy = lu[0], lu[1]\n",
    "    rux, ruy = ru[0], ru[1]\n",
    "    rdx, rdy = rd[0], rd[1]\n",
    "    ldx, ldy = ld[0], ld[1]\n",
    "    x, y = (lux + rdx) / 2, (luy + rdy) / 2\n",
    "    w, h = math.sqrt((lux - rux)**2 + (luy  - ruy)**2), math.sqrt((rux - rdx)**2 + (ruy - rdy)**2)\n",
    "    if rux - lux == 0:\n",
    "        if luy < ruy:\n",
    "            theta = 90\n",
    "        else :\n",
    "            theta = 270\n",
    "    else:\n",
    "        theta = math.degrees(math.atan((ruy - luy) / (rux - lux)))\n",
    "    if theta < 0:\n",
    "        theta += 360\n",
    "    return x, y, w, h, theta"
   ]
  },
  {
   "cell_type": "code",
   "execution_count": 6,
   "metadata": {
    "scrolled": true
   },
   "outputs": [],
   "source": [
    "def change_rect_to_y(rectss):\n",
    "    y = []\n",
    "    for rects in rectss:\n",
    "        y.append(list(change_coord_to_box(rects[0], rects[1], rects[2], rects[3])))\n",
    "    return np.array(y)\n",
    "y_train = change_rect_to_y(rect_train)"
   ]
  },
  {
   "cell_type": "code",
   "execution_count": 7,
   "metadata": {},
   "outputs": [
    {
     "data": {
      "text/plain": [
       "(24, 5)"
      ]
     },
     "execution_count": 7,
     "metadata": {},
     "output_type": "execute_result"
    }
   ],
   "source": [
    "y_train.shape"
   ]
  },
  {
   "cell_type": "markdown",
   "metadata": {},
   "source": [
    "## Read image files"
   ]
  },
  {
   "cell_type": "code",
   "execution_count": 8,
   "metadata": {},
   "outputs": [],
   "source": [
    "def load_rgbimages_from_folder(folder):\n",
    "    images = []\n",
    "    oimg = []\n",
    "    imgs = glob.glob(os.path.join(folder, '*rgb.png'))\n",
    "    imgs.sort()\n",
    "    for filename in imgs:\n",
    "        img = image.load_img(filename, target_size=(224, 224))\n",
    "        x = image.img_to_array(img) / 255\n",
    "        imgo = np.array(Image.open(filename))\n",
    "        oimg.append(imgo)\n",
    "        images.append(x)\n",
    "    return oimg, images\n",
    "\n",
    "ori_img_train, images_rgb_train = load_rgbimages_from_folder(data_dir)"
   ]
  },
  {
   "cell_type": "code",
   "execution_count": 9,
   "metadata": {},
   "outputs": [
    {
     "data": {
      "text/plain": [
       "(24, 24)"
      ]
     },
     "execution_count": 9,
     "metadata": {},
     "output_type": "execute_result"
    }
   ],
   "source": [
    "len(ori_img_train), len(images_rgb_train)"
   ]
  },
  {
   "cell_type": "code",
   "execution_count": 10,
   "metadata": {},
   "outputs": [],
   "source": [
    "hsv_img_train = []\n",
    "for i in range(len(images_rgb_train)):\n",
    "    hsv_img_train.append(rgb2hsv(images_rgb_train[i]) * 255)"
   ]
  },
  {
   "cell_type": "code",
   "execution_count": 11,
   "metadata": {},
   "outputs": [
    {
     "data": {
      "text/plain": [
       "<matplotlib.image.AxesImage at 0x2f13482b548>"
      ]
     },
     "execution_count": 11,
     "metadata": {},
     "output_type": "execute_result"
    },
    {
     "data": {
      "image/png": "[encoded data removed]",
      "text/plain": [
       "<Figure size 432x288 with 1 Axes>"
      ]
     },
     "metadata": {
      "needs_background": "light"
     },
     "output_type": "display_data"
    }
   ],
   "source": [
    "plt.imshow(hsv_img_train[0].astype(np.uint8))"
   ]
  },
  {
   "cell_type": "code",
   "execution_count": 12,
   "metadata": {},
   "outputs": [],
   "source": [
    "def load_depthimages_from_folder(folder):\n",
    "    images = []\n",
    "    imgs = glob.glob(os.path.join(folder, '*d.png'))\n",
    "    imgs.sort()\n",
    "    for filename in imgs:\n",
    "        im = image.load_img(filename, target_size=(224, 224))\n",
    "        im = image.img_to_array(im)\n",
    "        images.append(im)\n",
    "    return images\n",
    "\n",
    "images_depth_train = load_depthimages_from_folder(data_dir)"
   ]
  },
  {
   "cell_type": "code",
   "execution_count": 13,
   "metadata": {
    "scrolled": true
   },
   "outputs": [
    {
     "data": {
      "text/plain": [
       "(24, (224, 224, 3))"
      ]
     },
     "execution_count": 13,
     "metadata": {},
     "output_type": "execute_result"
    }
   ],
   "source": [
    "len(images_depth_train), images_depth_train[0].shape"
   ]
  },
  {
   "cell_type": "code",
   "execution_count": 14,
   "metadata": {
    "scrolled": true
   },
   "outputs": [
    {
     "data": {
      "text/plain": [
       "array([[[54., 54., 54.],\n",
       "        [54., 54., 54.],\n",
       "        [54., 54., 54.],\n",
       "        ...,\n",
       "        [54., 54., 54.],\n",
       "        [54., 54., 54.],\n",
       "        [54., 54., 54.]],\n",
       "\n",
       "       [[54., 54., 54.],\n",
       "        [54., 54., 54.],\n",
       "        [54., 54., 54.],\n",
       "        ...,\n",
       "        [54., 54., 54.],\n",
       "        [54., 54., 54.],\n",
       "        [54., 54., 54.]],\n",
       "\n",
       "       [[54., 54., 54.],\n",
       "        [54., 54., 54.],\n",
       "        [54., 54., 54.],\n",
       "        ...,\n",
       "        [54., 54., 54.],\n",
       "        [54., 54., 54.],\n",
       "        [54., 54., 54.]],\n",
       "\n",
       "       ...,\n",
       "\n",
       "       [[46., 46., 46.],\n",
       "        [46., 46., 46.],\n",
       "        [46., 46., 46.],\n",
       "        ...,\n",
       "        [46., 46., 46.],\n",
       "        [46., 46., 46.],\n",
       "        [46., 46., 46.]],\n",
       "\n",
       "       [[46., 46., 46.],\n",
       "        [46., 46., 46.],\n",
       "        [46., 46., 46.],\n",
       "        ...,\n",
       "        [46., 46., 46.],\n",
       "        [46., 46., 46.],\n",
       "        [46., 46., 46.]],\n",
       "\n",
       "       [[46., 46., 46.],\n",
       "        [46., 46., 46.],\n",
       "        [46., 46., 46.],\n",
       "        ...,\n",
       "        [46., 46., 46.],\n",
       "        [46., 46., 46.],\n",
       "        [46., 46., 46.]]], dtype=float32)"
      ]
     },
     "execution_count": 14,
     "metadata": {},
     "output_type": "execute_result"
    }
   ],
   "source": [
    "images_depth_train[0]"
   ]
  },
  {
   "cell_type": "markdown",
   "metadata": {},
   "source": [
    "## Image Preprocessing"
   ]
  },
  {
   "cell_type": "code",
   "execution_count": 15,
   "metadata": {},
   "outputs": [],
   "source": [
    "train_img = np.empty([24, 224, 224, 3], dtype = float)\n",
    "\n",
    "train_img[:, :, :, 0:2] = np.array(hsv_img_train)[:, :, :, 0:2]\n",
    "train_img[:, :, :, 2] = np.array(images_depth_train)[:, :, :, 1]"
   ]
  },
  {
   "cell_type": "code",
   "execution_count": 16,
   "metadata": {
    "scrolled": true
   },
   "outputs": [
    {
     "data": {
      "text/plain": [
       "array([[[145.71429443,  22.78723335,  54.        ],\n",
       "        [145.71429443,  22.78723335,  54.        ],\n",
       "        [145.71429443,  22.78723335,  54.        ],\n",
       "        ...,\n",
       "        [138.125     ,  14.29906368,  54.        ],\n",
       "        [138.125     ,  14.36619568,  54.        ],\n",
       "        [138.125     ,  14.36619568,  54.        ]],\n",
       "\n",
       "       [[145.71429443,  22.78723335,  54.        ],\n",
       "        [145.71429443,  22.78723335,  54.        ],\n",
       "        [145.71429443,  22.78723335,  54.        ],\n",
       "        ...,\n",
       "        [138.125     ,  14.29906368,  54.        ],\n",
       "        [138.125     ,  14.36619568,  54.        ],\n",
       "        [138.125     ,  14.36619568,  54.        ]],\n",
       "\n",
       "       [[145.71429443,  22.78723335,  54.        ],\n",
       "        [145.71429443,  22.78723335,  54.        ],\n",
       "        [145.71429443,  22.78723335,  54.        ],\n",
       "        ...,\n",
       "        [138.125     ,  14.36619568,  54.        ],\n",
       "        [138.125     ,  14.36619568,  54.        ],\n",
       "        [138.125     ,  14.36619568,  54.        ]],\n",
       "\n",
       "       ...,\n",
       "\n",
       "       [[142.67857361,  16.22727203,  46.        ],\n",
       "        [142.67857361,  16.22727203,  46.        ],\n",
       "        [142.67857361,  16.22727203,  46.        ],\n",
       "        ...,\n",
       "        [142.67857361,  16.00896835,  46.        ],\n",
       "        [142.67857361,  16.08107948,  46.        ],\n",
       "        [142.67857361,  16.08107948,  46.        ]],\n",
       "\n",
       "       [[142.67857361,  16.30136871,  46.        ],\n",
       "        [142.67857361,  16.30136871,  46.        ],\n",
       "        [142.67857361,  16.30136871,  46.        ],\n",
       "        ...,\n",
       "        [142.67857361,  16.08107948,  46.        ],\n",
       "        [142.67857361,  16.15384483,  46.        ],\n",
       "        [142.67857361,  16.15384483,  46.        ]],\n",
       "\n",
       "       [[142.67857361,  16.30136871,  46.        ],\n",
       "        [142.67857361,  16.30136871,  46.        ],\n",
       "        [142.67857361,  16.30136871,  46.        ],\n",
       "        ...,\n",
       "        [142.67857361,  16.08107948,  46.        ],\n",
       "        [142.67857361,  16.15384483,  46.        ],\n",
       "        [142.67857361,  16.15384483,  46.        ]]])"
      ]
     },
     "execution_count": 16,
     "metadata": {},
     "output_type": "execute_result"
    }
   ],
   "source": [
    "train_img[0]"
   ]
  },
  {
   "cell_type": "code",
   "execution_count": 17,
   "metadata": {},
   "outputs": [
    {
     "data": {
      "text/plain": [
       "(24, 224, 224, 3)"
      ]
     },
     "execution_count": 17,
     "metadata": {},
     "output_type": "execute_result"
    }
   ],
   "source": [
    "train_img.shape"
   ]
  },
  {
   "cell_type": "code",
   "execution_count": 18,
   "metadata": {},
   "outputs": [
    {
     "data": {
      "text/plain": [
       "numpy.ndarray"
      ]
     },
     "execution_count": 18,
     "metadata": {},
     "output_type": "execute_result"
    }
   ],
   "source": [
    "type(train_img)"
   ]
  },
  {
   "cell_type": "markdown",
   "metadata": {},
   "source": [
    "## First Training"
   ]
  },
  {
   "cell_type": "code",
   "execution_count": 19,
   "metadata": {},
   "outputs": [],
   "source": [
    "model = load_model('my_model_f.h5')"
   ]
  },
  {
   "cell_type": "code",
   "execution_count": 20,
   "metadata": {},
   "outputs": [],
   "source": [
    "model.compile(optimizer = Adam(lr = 0.001, decay = 1e-6), loss = 'mean_squared_error', metrics = ['acc'])"
   ]
  },
  {
   "cell_type": "code",
   "execution_count": null,
   "metadata": {},
   "outputs": [],
   "source": [
    "model.fit(train_img, y_train, batch_size = 1, epochs = 30, verbose = 1)"
   ]
  },
  {
   "cell_type": "code",
   "execution_count": null,
   "metadata": {},
   "outputs": [],
   "source": [
    "gggggggg"
   ]
  },
  {
   "cell_type": "code",
   "execution_count": null,
   "metadata": {},
   "outputs": [],
   "source": [
    "model_all.save('my_model_fT.h5')"
   ]
  },
  {
   "cell_type": "code",
   "execution_count": null,
   "metadata": {},
   "outputs": [],
   "source": [
    "model.save_weights('model_fT.h5')\n",
    "model_json = model.to_json()\n",
    "with open('model_fT.json', \"w\") as json_file:\n",
    "    json_file.write(model_json)\n",
    "json_file.close()"
   ]
  }
 ],
 "metadata": {
  "kernelspec": {
   "display_name": "Python 3",
   "language": "python",
   "name": "python3"
  },
  "language_info": {
   "codemirror_mode": {
    "name": "ipython",
    "version": 3
   },
   "file_extension": ".py",
   "mimetype": "text/x-python",
   "name": "python",
   "nbconvert_exporter": "python",
   "pygments_lexer": "ipython3",
   "version": "3.7.4"
  }
 },
 "nbformat": 4,
 "nbformat_minor": 4
}
